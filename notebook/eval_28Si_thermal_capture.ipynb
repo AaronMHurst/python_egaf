{
 "cells": [
  {
   "cell_type": "markdown",
   "metadata": {},
   "source": [
    "# Statistical modeling: Evaluation of $^{28}$Si($n,\\gamma$)\n",
    "\n",
    "Analysis of DICEBOX results and decay-scheme validation of the residual compound nucleus $^{29}$Si produced via $^{28}$Si($n,\\gamma$) thermal-neutron capture."
   ]
  },
  {
   "cell_type": "code",
   "execution_count": null,
   "metadata": {},
   "outputs": [],
   "source": [
    "# Load the pyEGAF package and make a data object\n",
    "import pyEGAF as egaf\n",
    "e = egaf.EGAF()\n",
    "edata = e.load_egaf()"
   ]
  },
  {
   "cell_type": "markdown",
   "metadata": {},
   "source": [
    "The decay-scheme evaluation procedure uses various methods from the module containing the `Analysis` class:\n",
    "\n",
    "```Bash\n",
    "ipython\n",
    "```\n",
    "\n",
    "```python\n",
    ">>> help(egaf.Analysis)\n",
    "```"
   ]
  },
  {
   "cell_type": "markdown",
   "metadata": {},
   "source": [
    "## (1) Determination of the total thermal neutron-capture cross section $\\sigma_{0}$ from measured primary rays\n",
    "\n",
    "If the decay scheme is complete:\n",
    "\\begin{equation}\n",
    "\\nonumber\n",
    "\\sigma_{0} = \\sum\\limits_{i=1}^{N} \\sigma_{\\gamma_{i}} (1+\\alpha_{i}),\n",
    "\\end{equation}\n",
    "where $\\sigma_{\\gamma_{i}}$ is the partial $\\gamma$-ray cross section of measured primary $i$, $\\alpha_{i}$ is the corresponding internal conversion coefficient (usually negligible for high-energy primaries), and $N$ represents the total number of primary gammas.  The `Analysis` method `sum_primaries` can be used to obtain this result:\n",
    "\n",
    "```python\n",
    ">>> help(e.sum_primaries)\n",
    "```"
   ]
  },
  {
   "cell_type": "code",
   "execution_count": null,
   "metadata": {},
   "outputs": [],
   "source": [
    "sum_pri = e.sum_primaries(edata,\"Si29\",intensity=\"isotopic\")\n",
    "print(sum_pri)"
   ]
  },
  {
   "cell_type": "markdown",
   "metadata": {},
   "source": [
    "This result can be compared to the adopted value in the EGAF database to assess completeness of the primary $\\gamma$-ray spectrum.  Refer to the appropriate docstrings:\n",
    "\n",
    "```python\n",
    ">>> help(e.get_total_cross_section)\n",
    "```"
   ]
  },
  {
   "cell_type": "code",
   "execution_count": null,
   "metadata": {},
   "outputs": [],
   "source": [
    "adopted_sigma0 = e.get_total_cross_section(edata,\"Si28\")\n",
    "print(adopted_sigma0)"
   ]
  },
  {
   "cell_type": "markdown",
   "metadata": {},
   "source": [
    "Statistically these results are consistent to $\\approx 1.5\\sigma$ and all significant primary $\\gamma$ rays are accounted for, i.e., complete."
   ]
  },
  {
   "cell_type": "markdown",
   "metadata": {},
   "source": [
    "## (2) Determination of $\\sigma_{0}$ using measured ground-state feeding transitions\n",
    "\n",
    "Again, if the decay scheme is complete, we can also use measured secondary $\\gamma$ rays that feed the ground state directly (corrected for internal conversion) in single-step transitions, along with the measured primary to ground state if known.  The relevant docstrings describe use of the appropriate method:\n",
    "\n",
    "```python\n",
    ">>> help(e.sum_feeding_gs)\n",
    "```"
   ]
  },
  {
   "cell_type": "code",
   "execution_count": null,
   "metadata": {},
   "outputs": [],
   "source": [
    "sum_gs = e.sum_feeding_gs(edata,\"Si29\",intensity=\"isotopic\")\n",
    "print(sum_gs)"
   ]
  },
  {
   "cell_type": "markdown",
   "metadata": {},
   "source": [
    "This result is consistent with both results determined using Method (1) above and implies that the decay scheme is well balanced in this case because the primary-$\\gamma$ feeding to levels compares well with the secondary-$\\gamma$ deexcitaion of the levels."
   ]
  },
  {
   "cell_type": "markdown",
   "metadata": {},
   "source": [
    "## (3) Determination of $\\sigma_{0}$ using measured ground-state feeding transitions and modeled continuum feeding of the ground state $P_{0}$\n",
    "\n",
    "Generally, the decay scheme is not complete and we must use the measured primary and secondary $\\gamma$ rays that feed the ground state directly (corrected for conversion) in single step transitions, together with the modeled contribution feeding the ground state from the continuum $P_{0}$ calculated by the statistical model (e.g., DICEBOX):\n",
    "\\begin{equation}\n",
    "\\nonumber\n",
    "\\sigma_{0} = \\frac{\\sum\\limits_{i=1}^{N} \\sigma_{\\gamma_{i}} (1+\\alpha_{i})}{1-P_{0}}.\n",
    "\\end{equation}"
   ]
  },
  {
   "cell_type": "markdown",
   "metadata": {},
   "source": [
    "### EXAMPLE:\n",
    "\n",
    "Using the BSFG level density together with the GLO photon strength function with an assumed critical energy $E_{c} = $ 6.90848 MeV (i.e. the first 10 levels of the $^{29}$Si decay scheme), we find $P_{0} = $ 0.02390$\\pm$0.00132 from the DICEBOX statistical-model calculation (see results in `dicebox_results/Ecrit_levels_10/DICE.PRO`) and the sum of experimental partial $\\gamma$-ray cross sections feeding the ground state is 0.1864$\\pm$0.0027 b.  We can now provide this information to the `modeled_sigma0` callable to find the corresponding value of $\\sigma_{0}$.  The docstrings for this method can be viewed through the interpreter:\n",
    "\n",
    "```python\n",
    ">>> help(e.modeled_sigma0)\n",
    "```"
   ]
  },
  {
   "cell_type": "code",
   "execution_count": null,
   "metadata": {},
   "outputs": [],
   "source": [
    "sigma0 = e.modeled_sigma0(0.1864,0.0027,0.02390,0.00132)\n",
    "print(sigma0)"
   ]
  },
  {
   "cell_type": "markdown",
   "metadata": {},
   "source": [
    "This result is also statistically consistent with those from Methods (1) and (2) above, suggesting that the decay scheme is well characterized below our value of $E_{c}$ and also implies the statistical model works well in determining the quasicontinuum-calculated contribution to $\\sigma_{0}$."
   ]
  },
  {
   "cell_type": "markdown",
   "metadata": {},
   "source": [
    "## Detailed decay-scheme validation\n",
    "\n",
    "To help validate the thermal-capture decay scheme data it is important to include all measured statistically-significant contributions to $\\sigma_{0}$ and, ideally, raise $E_{c}$ as high as possible to include accurate and complete decay-scheme information.  The RIPL file provides a recommended $E_{c}$ which may serve as a useful starting point for a statistical-model calculation.  We can increase this value provided that we have good experimental nuclear structure data, i.e., complete information regarding $\\gamma$-ray energies, branching ratios, and internal conversion coefficients (therefore, multipolarities and mixing ratios) as well as level energies and corresponding $J^{\\pi}$ information.\n",
    "\n",
    "Beginning with an assumed $E_{c}$ we can compare the experimental $\\gamma$-ray data to the statistical-model predictions.  If experimental and modeled data compare well, this suggests that the decay-scheme is well balanced and characterized up to $E_{c}$ and lends support to the decay-scheme nuclear-structure assignments.  We can then iteratively increase $E_{c}$, usuallly one level at a time, until there is a breakdown in agreement between experiment and model.  At this point, we can attempt to \"fix\" the decay scheme, for example:\n",
    "\n",
    "* Check for any possible missing $\\gamma$ rays or adjust intensities if it makes sense to do so.\n",
    "* If any of the $\\gamma$ rays have unknown or poorly known mixing ratios ($\\delta_{\\gamma}$), try adjusting this quantity to arrive at new internal conversion coefficients to improve agreement between model and experiment.\n",
    "* Adjustments to $J^{\\pi}$ within reason; non-physical values should not be given, e.g., changing the assignment of a band member that would otherwise throw it out of step with other band members.  For firmly-assigned $J^{\\pi}$ values, a very strong argument would be needed to change its value.  However, there is usually room for maneuver with tentative or unknown assignments.  Any changes here will also require checking the multipolarities of all transitions feeding and deexciting the corresponding level.  Similarly, any known multipolarities may also be used to help pin down possible $J^{\\pi}$ assignments of the level.\n",
    "\n",
    "If further changes to the decay scheme cannot be justified and agreement between model and experiment is still poor then the value of $E_{c}$ has been exceeded and a lower value must be adopted.  The point at which agreement breaks down may imply that significant decay-scheme information is missing and the statistical model is unable to reproduce the known data.  The point at which this happens varies from nucleus to nucleus."
   ]
  },
  {
   "cell_type": "markdown",
   "metadata": {},
   "source": [
    "### Statistical-model results as a function of $E_{c}$\n",
    "\n",
    "The following table shows the DICEBOX-calculated results for the modeled quasicontinuum-feeding of the ground state in $^{29}$Si from $^{28}$Si($n,\\gamma$) as a function of increasing the cut-off energy $E_{c}$.  These results are in the `DICE.PRO` files in the corresponding `dicebox_results/Ecrit_levels_i` folder where `i=index+1`.\n",
    "\n",
    "|index | $E_{c}$ (keV) | $P_{0}$ | $dP_{0}$ |\n",
    "|---|---|---|---|\n",
    "|5 | 4840.23 | 0.29201 | 0.17387 |\n",
    "|6 | 4934.339 | 0.10600 | 0.03445 |\n",
    "|7 | 6380.554 | 0.02619 | 0.00288 |\n",
    "|8 | 6712.9 | 0.02564 | 0.00273 |\n",
    "|9 | 6908.48 | 0.02390 | 0.00132 |\n",
    "|10 | 7057.94 | 0.02314 | 0.00080 |\n",
    "|11 | 7523.13 | 0.02256 |  0.00064 |\n",
    "|12 | 7996.4 | 0.02217 | 0.00049 |\n"
   ]
  },
  {
   "cell_type": "code",
   "execution_count": null,
   "metadata": {},
   "outputs": [],
   "source": [
    "# Create a dictionary of the P0 results\n",
    "# See `DICE.PRO` outputs\n",
    "p0_dict = {5:[0.29201, 0.17387], 6:[0.10600, 0.03445], 7:[0.02619, 0.00288],\n",
    "           8:[0.02564, 0.00273], 9:[0.02390, 0.00132], 10:[0.02314, 0.00080], \n",
    "           11:[0.02256, 0.00064], 12:[0.02217, 0.00049]}"
   ]
  },
  {
   "cell_type": "code",
   "execution_count": null,
   "metadata": {},
   "outputs": [],
   "source": [
    "# Define the critical energy (by its integer level index) and find corresponding value of P0\n",
    "Ec = 8 # Adjust between 5 and 12 to see results at different Ec values\n",
    "P0 = [v[0] for (k,v) in p0_dict.items() if k==Ec][0]\n",
    "dP0 = [v[1] for (k,v) in p0_dict.items() if k==Ec][0]\n",
    "print(P0, dP0)"
   ]
  },
  {
   "cell_type": "code",
   "execution_count": null,
   "metadata": {},
   "outputs": [],
   "source": [
    "import matplotlib.pyplot as plt\n",
    "import numpy as np\n",
    "%matplotlib notebook\n",
    "#%matplotlib inline\n",
    "#%matplotlib"
   ]
  },
  {
   "cell_type": "markdown",
   "metadata": {},
   "source": [
    "### Assess population-depopulation as a function of $E_{c}$\n",
    "\n",
    "Normalize the experimental cross sections from the EGAF library such that they can be compared on the same scale to the simulated populations per neutron capture from the statistical-model calculations.  Refer to the docstrings:\n",
    "\n",
    "```python\n",
    ">>> help(e.normalise_intensities)\n",
    "```"
   ]
  },
  {
   "cell_type": "code",
   "execution_count": null,
   "metadata": {},
   "outputs": [],
   "source": [
    "# Normalize the total-level experimental depopulation cross-section data using P0 at the defined critical energy.\n",
    "# The returned level intensities are normalized to level-depopulation per neutron capture\n",
    "norm_list = e.normalise_intensities(edata,\"Si29\",P0,dP0)\n",
    "norm_array = np.array(norm_list)"
   ]
  },
  {
   "cell_type": "code",
   "execution_count": null,
   "metadata": {},
   "outputs": [],
   "source": [
    "# Extract population per neutron capture data from DICEBOX output at corresponding critical energy.\n",
    "# Load results into numpy array\n",
    "pop_list = []\n",
    "with open('dicebox_results/Ecrit_levels_%i/DICE.PRO'%int(Ec+1)) as db_file:\n",
    "    db_out = db_file.readlines()\n",
    "    \n",
    "    start = None\n",
    "    finish = None\n",
    "    for i, line in enumerate(db_out):\n",
    "        if str('Population of low-lying states') in line:\n",
    "            start = i+1\n",
    "        if str('Direct population of low-lying states from continuum') in line:\n",
    "            finish = i-1\n",
    "            \n",
    "    pop_data = db_out[start:finish:1]\n",
    "    for pdata in pop_data:\n",
    "        pdata = pdata.strip().split()\n",
    "        # Print DICEBOX populations of low-lying states\n",
    "        print(pdata)\n",
    "        \n",
    "        pop_list.append([int(pdata[0])-1, float(pdata[1])*1000.0, float(pdata[2]), float(pdata[4])])\n",
    "pop_array = np.array(pop_list)"
   ]
  },
  {
   "cell_type": "code",
   "execution_count": null,
   "metadata": {},
   "outputs": [],
   "source": [
    "# Create an array of normalized population-depopulation data for each level up to the defined critical energy\n",
    "pop_depop_list = []\n",
    "for depop in norm_array:\n",
    "    for pop in pop_array:\n",
    "        if int(depop[0]) == int(pop[0]) and pop[0]>0:\n",
    "            pop_depop_list.append([pop[2],pop[3],depop[5],depop[6],depop[1]])\n",
    "            \n",
    "pop_depop_array = np.array(pop_depop_list)\n",
    "pop_per_neutron = pop_depop_array[:,0].astype(float)\n",
    "d_pop_per_neutron = pop_depop_array[:,1].astype(float)\n",
    "depop_per_neutron = pop_depop_array[:,2].astype(float)\n",
    "d_depop_per_neutron = pop_depop_array[:,3].astype(float)\n",
    "level_energy = pop_depop_array[:,4].astype(float)"
   ]
  },
  {
   "cell_type": "code",
   "execution_count": null,
   "metadata": {},
   "outputs": [],
   "source": [
    "# Plot population versus depopulation at given E_crit\n",
    "%matplotlib notebook\n",
    "fig, ax = plt.subplots(figsize=(9,6))\n",
    "\n",
    "ax.errorbar(depop_per_neutron, pop_per_neutron, xerr=d_depop_per_neutron, yerr=d_pop_per_neutron, \\\n",
    "            fmt='o', color='k', capsize=5)\n",
    "\n",
    "xpoints = ypoints = plt.xlim()\n",
    "ax.plot(xpoints,ypoints, lw=3, color='r', linestyle='-', scalex=False, scaley=False)\n",
    "\n",
    "ax.set_xscale('log')\n",
    "ax.set_yscale('log')\n",
    "\n",
    "ax.set_xlabel(r'Experimental depopulation', size=20)\n",
    "ax.set_ylabel(r'Modeled population', size=20)\n",
    "ax.tick_params(axis='both', which='major', labelsize=15)\n",
    "\n",
    "plt.grid()\n",
    "plt.tight_layout()\n",
    "#plt.savefig(\"si29_pop_depop_Ec%i.pdf\"%int(Ec), dpi=fig.dpi)\n",
    "plt.show()"
   ]
  },
  {
   "cell_type": "markdown",
   "metadata": {},
   "source": [
    "### Assessment of decay-scheme data\n",
    "\n",
    "To assess the quality of the measured data, and thereby help vaildate the decay-scheme information, we can calculate the residuals ($R$) in units of standard deviation between modeled ($M$) and experimental ($E$) data:\n",
    "\\begin{equation}\n",
    "\\nonumber\n",
    "R=|M-E|.\n",
    "\\end{equation}\n",
    "Assuming $M$ and $E$ are independent, the $1\\sigma$ uncertainty can be expressed as\n",
    "\\begin{equation}\n",
    "dR = \\sqrt{dM^{2} + dE^{2}}.\n",
    "\\end{equation}\n",
    "When $M$ and $E$ differ by $\\geq 3\\sigma$ it is safe to say the results disagree and we may want to check or adjust some of the information in the decay scheme as described above, e.g., $\\gamma$-ray information, $J^{\\pi}$ assignments etc."
   ]
  },
  {
   "cell_type": "code",
   "execution_count": null,
   "metadata": {},
   "outputs": [],
   "source": [
    "# Write function to calculate residuals between M and E\n",
    "def residual(M,dM,E,dE):\n",
    "    \"\"\"Function to calculate residuals between measured and experimental data\"\"\"\n",
    "    R = abs(M-E)\n",
    "    dR = np.sqrt(dM**2 + dE**2)\n",
    "    return R/dR"
   ]
  },
  {
   "cell_type": "code",
   "execution_count": null,
   "metadata": {},
   "outputs": [],
   "source": [
    "# Calculate residual (in units of sigma) between modeled and experimental data\n",
    "num_std = residual(pop_per_neutron, d_pop_per_neutron, depop_per_neutron, d_depop_per_neutron)"
   ]
  },
  {
   "cell_type": "code",
   "execution_count": null,
   "metadata": {},
   "outputs": [],
   "source": [
    "# Construct iterator of level energy and residual tuples and find all levels which differ by >= 3-sigma\n",
    "levels_zipped = zip(level_energy,num_std)\n",
    "\n",
    "poorx = []\n",
    "poory = []\n",
    "for level in levels_zipped:\n",
    "    if float(level[1]) >= 3.0:\n",
    "        poorx.append(level[0])\n",
    "        poory.append(level[1])"
   ]
  },
  {
   "cell_type": "code",
   "execution_count": null,
   "metadata": {},
   "outputs": [],
   "source": [
    "# Plot residuals between modeled and experimental data\n",
    "fig, ax = plt.subplots(figsize=(9,6))\n",
    "\n",
    "ax.scatter(level_energy, num_std, color='k', s=50, marker='o')\n",
    "\n",
    "# Plot poor results (if any) in a different style\n",
    "if len(poorx) >= 1 and len(poory) >= 1:\n",
    "    ax.scatter(poorx, poory, color='r', s=50, marker='s')\n",
    "    \n",
    "ax.set_xlabel(r'$E$ [keV]', size=20)\n",
    "ax.set_ylabel(r'$R$ [$\\sigma$]', size=20)\n",
    "ax.tick_params(axis='both', which='major', labelsize=15)\n",
    "\n",
    "plt.grid()\n",
    "plt.tight_layout()\n",
    "#plt.savefig(\"si29_res_Ec{0}.pdf\".format(Ec), dpi=fig.dpi)\n",
    "plt.show()"
   ]
  },
  {
   "cell_type": "markdown",
   "metadata": {},
   "source": [
    "### Find $\\sigma_{0}$ at a particular value of $E_{c}$\n",
    "\n",
    "Pass the level index, $P_{0}$, and $dP_{0}$ at the corresponding value of $E_{c}$ to the function below.  Refer to the docstrings for an explanation of its return value:\n",
    "\n",
    "```python\n",
    ">>> help(e.modeled_sigma0_ecrit)\n",
    "```"
   ]
  },
  {
   "cell_type": "code",
   "execution_count": null,
   "metadata": {},
   "outputs": [],
   "source": [
    "# e.g., For the 10th level (index=9), use the DICEBOX-calculated P0 results from `Ecrit_levels_10` folder\n",
    "e.modeled_sigma0_ecrit(edata,9,0.02390,0.00132,\"Si29\")"
   ]
  },
  {
   "cell_type": "markdown",
   "metadata": {},
   "source": [
    "### Assess $\\sigma_{0}$ as a function of $E_{c}$\n",
    "\n",
    "The stability of $\\sigma_{0}$ with increasing cut-off energy can be assed by iterating over various values of $E_{c}$ and determining the corresponding $\\sigma_{0}$.  Plotting these two quantities against one another will reveal how quickly $\\sigma_{0}$ converges to a unique value such that it can be considered independent of $E_{c}$, provided that all statistically-significant experimental contributions to $\\sigma_{0}$ have been accounted for.  It is also useful to compare the experimental contributions to $\\sigma_{0}$ alone with increasing $E_{c}$."
   ]
  },
  {
   "cell_type": "code",
   "execution_count": null,
   "metadata": {},
   "outputs": [],
   "source": [
    "# Create a list of the P0, summed experimental cross sections feeding gs, and sigma0 results for each Ec\n",
    "sigma0_ecrit_results = []\n",
    "for key, value in p0_dict.items():\n",
    "    Ec_index = int(key)\n",
    "    P0 = float(value[0])\n",
    "    dP0 = float(value[1])\n",
    "    \n",
    "    sigma0_ecrit_results.append(e.modeled_sigma0_ecrit(edata, Ec_index, P0, dP0, \"Si29\"))"
   ]
  },
  {
   "cell_type": "code",
   "execution_count": null,
   "metadata": {},
   "outputs": [],
   "source": [
    "# Load the cross section results into numpy arrays\n",
    "sigma0_ecrit_results = np.array(sigma0_ecrit_results)\n",
    "\n",
    "Ec_energy = np.array(sigma0_ecrit_results[:,0]).astype(float)\n",
    "sum_exp_cs_gs = np.array(sigma0_ecrit_results[:,1]).astype(float)\n",
    "d_sum_exp_cs_gs = np.array(sigma0_ecrit_results[:,2]).astype(float)\n",
    "sigma0_Ec = np.array(sigma0_ecrit_results[:,3]).astype(float)\n",
    "d_sigma0_Ec = np.array(sigma0_ecrit_results[:,4]).astype(float)"
   ]
  },
  {
   "cell_type": "code",
   "execution_count": null,
   "metadata": {},
   "outputs": [],
   "source": [
    "# Plot cross section as function of Ecrit\n",
    "fig, ax = plt.subplots(figsize=(9,6))\n",
    "\n",
    "ax.errorbar(Ec_energy, sum_exp_cs_gs, xerr=None, yerr=d_sum_exp_cs_gs, fmt='o', color='k', capsize=5, \\\n",
    "            label=r'$\\sum{\\sigma_{\\gamma_{i0}}(1+\\alpha_{i})}$ [b]')\n",
    "ax.errorbar(Ec_energy, sigma0_Ec, xerr=None, yerr=d_sigma0_Ec, fmt='o', color='r', capsize=5, \\\n",
    "            label=r'$\\sigma_{0}$ [b]')\n",
    "ax.legend(loc='lower right', fontsize=20)\n",
    "\n",
    "# Compare with adopted sigma0\n",
    "ax.hlines(y=adopted_sigma0[0], xmin=min(list(Ec_energy)), xmax=max(list(Ec_energy)), color='m', linewidth=3, linestyle='-')\n",
    "\n",
    "# Draw 1-sigma limits on adopted sigma_0\n",
    "one_sigma_upper = adopted_sigma0[0] + adopted_sigma0[1]\n",
    "one_sigma_lower = adopted_sigma0[0] - adopted_sigma0[1]\n",
    "ax.hlines(one_sigma_upper, xmin=min(list(Ec_energy)), xmax=max(list(Ec_energy)), color='b', linewidth=3, linestyle='--')\n",
    "ax.hlines(one_sigma_lower, xmin=min(list(Ec_energy)), xmax=max(list(Ec_energy)), color='b', linewidth=3, linestyle='--')\n",
    "\n",
    "# Draw 2-sigma limits on adopted sigma_0\n",
    "two_sigma_upper = adopted_sigma0[0] + (2*adopted_sigma0[1])\n",
    "two_sigma_lower = adopted_sigma0[0] - (2*adopted_sigma0[1])\n",
    "ax.hlines(two_sigma_upper, xmin=min(list(Ec_energy)), xmax=max(list(Ec_energy)), color='g', linewidth=3, linestyle='--')\n",
    "ax.hlines(two_sigma_lower, xmin=min(list(Ec_energy)), xmax=max(list(Ec_energy)), color='g', linewidth=3, linestyle='--')\n",
    "\n",
    "ax.set_xlabel(r'$E_{\\rm c}$ [keV]', size=20)\n",
    "ax.set_ylabel(r'$\\sigma_{0}$ [b]', size=20)\n",
    "ax.tick_params(axis='both', which='major', labelsize=15)\n",
    "\n",
    "plt.grid()\n",
    "plt.tight_layout()\n",
    "#plt.savefig(\"si28ng_sigma0.pdf\", dpi=fig.dpi)\n",
    "plt.show()"
   ]
  },
  {
   "cell_type": "code",
   "execution_count": null,
   "metadata": {},
   "outputs": [],
   "source": []
  }
 ],
 "metadata": {
  "kernelspec": {
   "display_name": "Python 3",
   "language": "python",
   "name": "python3"
  },
  "language_info": {
   "codemirror_mode": {
    "name": "ipython",
    "version": 3
   },
   "file_extension": ".py",
   "mimetype": "text/x-python",
   "name": "python",
   "nbconvert_exporter": "python",
   "pygments_lexer": "ipython3",
   "version": "3.7.3"
  }
 },
 "nbformat": 4,
 "nbformat_minor": 2
}
