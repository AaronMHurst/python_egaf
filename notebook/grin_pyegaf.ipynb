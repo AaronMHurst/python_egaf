{
 "cells": [
  {
   "cell_type": "markdown",
   "metadata": {},
   "source": [
    "# pyEGAF\n",
    "\n",
    "Python package for analysis and manipulation of thermal neutron-capture $(n,\\gamma)$ data from the Evaluated Gamma-ray Activation File (EGAF)."
   ]
  },
  {
   "cell_type": "code",
   "execution_count": null,
   "metadata": {},
   "outputs": [],
   "source": [
    "# Import package and load data\n",
    "import pyEGAF as egaf\n",
    "e = egaf.EGAF()\n",
    "edata = e.load_egaf()"
   ]
  },
  {
   "cell_type": "markdown",
   "metadata": {},
   "source": [
    "### The $(n,\\gamma)$ data sets in EGAF"
   ]
  },
  {
   "cell_type": "code",
   "execution_count": null,
   "metadata": {},
   "outputs": [],
   "source": [
    "# EGAF targets\n",
    "t = e.egaf_target_list(edata)\n",
    "print(t)\n",
    "print(\"Number of EGAF (n,g) targets = {0}\".format(len(t)))"
   ]
  },
  {
   "cell_type": "code",
   "execution_count": null,
   "metadata": {},
   "outputs": [],
   "source": [
    "# Compound-nucleus residuals\n",
    "r = e.egaf_residual_list(edata)\n",
    "print(r)\n",
    "print(\"Number of CN residuals = {0}\".format(len(r)))"
   ]
  },
  {
   "cell_type": "code",
   "execution_count": null,
   "metadata": {
    "scrolled": true
   },
   "outputs": [],
   "source": [
    "# Residual (A+1) - target (A) systems \n",
    "EGAF_Z = []\n",
    "EGAF_A_target = []\n",
    "EGAF_A_residual = []\n",
    "rt = e.egaf_target_residual_dict(edata)\n",
    "for (key, value) in rt.items(): \n",
    "    print(key, ':', value[0], value[1], value[2])\n",
    "    EGAF_Z.append(int(value[1]))\n",
    "    EGAF_A_target.append(int(value[2])-1)\n",
    "    EGAF_A_residual.append(int(value[2]))"
   ]
  },
  {
   "cell_type": "code",
   "execution_count": null,
   "metadata": {},
   "outputs": [],
   "source": [
    "import numpy as np\n",
    "import matplotlib.pyplot as plt\n",
    "%matplotlib notebook\n",
    "#%matplotlib \n",
    "\n",
    "fig, ax = plt.subplots(figsize=(9,6))\n",
    "\n",
    "ax.scatter(np.array(EGAF_A_target), np.array(EGAF_Z), color='k', marker='s', label=r'EGAF $(n,\\gamma)$ targets')\n",
    "ax.scatter(np.array(EGAF_A_residual), np.array(EGAF_Z), color='r', marker='s', alpha=0.3, label=r'EGAF $(n,\\gamma)$ residuals')\n",
    "\n",
    "ax.set_xlabel(r'$A$', size=20)\n",
    "ax.set_ylabel(r'$Z$', size=20)\n",
    "ax.tick_params(axis='both', which='major', labelsize=15)\n",
    "ax.legend(loc='best', fontsize=20)\n",
    "\n",
    "#plt.grid()\n",
    "plt.tight_layout()\n",
    "plt.savefig(\"EGAF_nuclides.png\", dpi=fig.dpi)\n",
    "plt.show()"
   ]
  },
  {
   "cell_type": "markdown",
   "metadata": {},
   "source": [
    "##### A few stats from the decay scheme of the residual compound nucleus"
   ]
  },
  {
   "cell_type": "code",
   "execution_count": null,
   "metadata": {},
   "outputs": [],
   "source": [
    "# Number of primaries\n",
    "e.num_primaries(edata,\"Cl36\")"
   ]
  },
  {
   "cell_type": "code",
   "execution_count": null,
   "metadata": {},
   "outputs": [],
   "source": [
    "# Number of secondaries\n",
    "e.num_secondaries(edata,\"Cl36\")"
   ]
  },
  {
   "cell_type": "code",
   "execution_count": null,
   "metadata": {},
   "outputs": [],
   "source": [
    "# Total number of gammas\n",
    "e.num_gammas(edata,\"Cl36\")"
   ]
  },
  {
   "cell_type": "code",
   "execution_count": null,
   "metadata": {},
   "outputs": [],
   "source": [
    "# Total number of levels\n",
    "e.num_levels(edata,\"Cl36\")"
   ]
  },
  {
   "cell_type": "code",
   "execution_count": null,
   "metadata": {},
   "outputs": [],
   "source": [
    "# Function to suppress output if desired\n",
    "from contextlib import contextmanager\n",
    "import sys, os\n",
    "\n",
    "@contextmanager\n",
    "def suppress_stdout():\n",
    "    \"\"\"Suppress output to console\"\"\"\n",
    "    with open(os.devnull, \"w\") as devnull:\n",
    "        old_stdout = sys.stdout\n",
    "        sys.stdout = devnull\n",
    "        try:  \n",
    "            yield\n",
    "        finally:\n",
    "            sys.stdout = old_stdout"
   ]
  },
  {
   "cell_type": "code",
   "execution_count": null,
   "metadata": {
    "scrolled": true
   },
   "outputs": [],
   "source": [
    "# Create a DataFrame of all targets and residuals in EGAF together with their corresponding \n",
    "# number of primary and secondary gammas\n",
    "\n",
    "import numpy as np\n",
    "import pandas as pd\n",
    "\n",
    "gamma_info = np.array([(r,t[0]) for (r,t) in rt.items()])\n",
    "res = gamma_info[:,0]\n",
    "targ = gamma_info[:,1]\n",
    "with suppress_stdout():\n",
    "    pri = np.array([e.num_primaries(edata,r) for r in res]).astype(int)\n",
    "    sec = np.array([e.num_secondaries(edata,r) for r in res]).astype(int)\n",
    "    \n",
    "df = pd.DataFrame({'Target': targ, 'Residual': res, 'Primaries': pri, 'Secondaries': sec})\n",
    "pd.set_option('display.max_row', None)\n",
    "pd.set_option('display.max_columns', None)\n",
    "df"
   ]
  },
  {
   "cell_type": "markdown",
   "metadata": {},
   "source": [
    "### Separation energies"
   ]
  },
  {
   "cell_type": "code",
   "execution_count": null,
   "metadata": {},
   "outputs": [],
   "source": [
    "# Proton-separation energy (AME2020)\n",
    "e.get_residual_Sp_AME(edata,\"Ag108\")"
   ]
  },
  {
   "cell_type": "code",
   "execution_count": null,
   "metadata": {},
   "outputs": [],
   "source": [
    "# Neutron-separation energy (AME2020)\n",
    "e.get_residual_Sn_AME(edata,14,29)"
   ]
  },
  {
   "cell_type": "code",
   "execution_count": null,
   "metadata": {},
   "outputs": [],
   "source": [
    "# Neutron-separation energy (EGAF)\n",
    "e.get_residual_Sn_EGAF(edata,13,28)"
   ]
  },
  {
   "cell_type": "code",
   "execution_count": null,
   "metadata": {},
   "outputs": [],
   "source": [
    "# All separation energies\n",
    "e.get_all_separation_energies(edata,\"proton\")"
   ]
  },
  {
   "cell_type": "markdown",
   "metadata": {},
   "source": [
    "### Inspect the RIPL file"
   ]
  },
  {
   "cell_type": "code",
   "execution_count": null,
   "metadata": {
    "scrolled": true
   },
   "outputs": [],
   "source": [
    "ripl=e.get_ripl(edata,\"O17\")"
   ]
  },
  {
   "cell_type": "markdown",
   "metadata": {},
   "source": [
    "### Decay-scheme properties"
   ]
  },
  {
   "cell_type": "code",
   "execution_count": null,
   "metadata": {
    "scrolled": true
   },
   "outputs": [],
   "source": [
    "# Level energies and spins\n",
    "e.get_residual_levels(edata,\"Na24\")"
   ]
  },
  {
   "cell_type": "code",
   "execution_count": null,
   "metadata": {
    "scrolled": true
   },
   "outputs": [],
   "source": [
    "e.find_multiple_jpi(edata,\"Na24\")"
   ]
  },
  {
   "cell_type": "code",
   "execution_count": null,
   "metadata": {},
   "outputs": [],
   "source": [
    "e.find_unique_jpi(edata,\"Na24\")"
   ]
  },
  {
   "cell_type": "code",
   "execution_count": null,
   "metadata": {
    "scrolled": true
   },
   "outputs": [],
   "source": [
    "e.find_isomers(edata,\"Na24\",units='best')"
   ]
  },
  {
   "cell_type": "markdown",
   "metadata": {},
   "source": [
    "### Visualization of $\\gamma$ data"
   ]
  },
  {
   "cell_type": "code",
   "execution_count": null,
   "metadata": {},
   "outputs": [],
   "source": [
    "# Define residual nucleus\n",
    "residual_cn = \"Y90\"\n",
    "# Find corresponding target nucleus\n",
    "target_ng = str([t[0] for (r,t) in rt.items() if r == residual_cn][0])\n",
    "print(\"(n,g) target nucleus: %s\"%target_ng)"
   ]
  },
  {
   "cell_type": "code",
   "execution_count": null,
   "metadata": {
    "scrolled": false
   },
   "outputs": [],
   "source": [
    "# Create an array of gamma-ray data\n",
    "intensity = \"isotopic\"\n",
    "spe = e.get_gammas(edata, residual_cn, intensity='%s'%intensity)\n",
    "\n",
    "gamma_energy = spe[:,4]\n",
    "gamma_intensity = spe[:,6]\n",
    "d_gamma_intensity = spe[:,7]\n",
    "\n",
    "spe"
   ]
  },
  {
   "cell_type": "code",
   "execution_count": null,
   "metadata": {},
   "outputs": [],
   "source": [
    "fig, ax = plt.subplots(figsize=(9,6))\n",
    "\n",
    "ax.bar(gamma_energy, gamma_intensity, width=12, color='r', label=r'%s($n,\\gamma$)'%target_ng)\n",
    "\n",
    "ax.set_yscale('log')\n",
    "ax.set_xlabel(r'$E_{\\gamma}$ [keV]', size=20)\n",
    "if intensity == \"population\":\n",
    "    ax.set_ylabel(r'$P$', size=20)\n",
    "else:\n",
    "    ax.set_ylabel(r'$\\sigma_{\\gamma}$ [b]', size=20)\n",
    "ax.tick_params(axis='both', which='major', labelsize=15)\n",
    "ax.legend(loc='best', fontsize=20)\n",
    "\n",
    "plt.grid()\n",
    "plt.tight_layout()\n",
    "plt.savefig(\"spectrum_{0}_ng_{1}_{2}.png\".format(target_ng, residual_cn, intensity), dpi=fig.dpi)\n",
    "plt.show()"
   ]
  },
  {
   "cell_type": "markdown",
   "metadata": {},
   "source": [
    "### Find $\\gamma$ rays in the EGAF database"
   ]
  },
  {
   "cell_type": "code",
   "execution_count": null,
   "metadata": {},
   "outputs": [],
   "source": [
    "# Provide energy and specify preferred intensity\n",
    "e.find_gamma(edata, 450, intensity='elemental')"
   ]
  },
  {
   "cell_type": "code",
   "execution_count": null,
   "metadata": {},
   "outputs": [],
   "source": [
    "# Tune the tolerance\n",
    "e.find_gamma(edata, 450, 0.1, intensity='population')"
   ]
  },
  {
   "cell_type": "markdown",
   "metadata": {},
   "source": [
    "### In a forensics application, and to help pin down possible candidate isotopes, we would also expect to see the strongest gammas in those isotopes\n"
   ]
  },
  {
   "cell_type": "code",
   "execution_count": null,
   "metadata": {},
   "outputs": [],
   "source": [
    "# Find the strongest gammas produced in 77Se(n,g)78Se\n",
    "e.get_strongest_gammas(edata, \"Se78\", intensity=\"relative\")"
   ]
  },
  {
   "cell_type": "code",
   "execution_count": null,
   "metadata": {},
   "outputs": [],
   "source": [
    "# Find the strongest gammas produced in 167Er(n,g)168Er\n",
    "e.get_strongest_gammas(edata, \"Er168\", intensity=\"relative\")"
   ]
  },
  {
   "cell_type": "markdown",
   "metadata": {},
   "source": [
    "### CapGam-style output\n",
    "\n",
    "pyEGAF module has functions to display data CapGam style cf. https://www.nndc.bnl.gov/capgam/"
   ]
  },
  {
   "cell_type": "code",
   "execution_count": null,
   "metadata": {
    "scrolled": false
   },
   "outputs": [],
   "source": [
    "e.capgam(edata,\"C13\")"
   ]
  },
  {
   "cell_type": "code",
   "execution_count": null,
   "metadata": {
    "scrolled": true
   },
   "outputs": [],
   "source": [
    "e.capgam(edata,\"C13\",\"more\")"
   ]
  },
  {
   "cell_type": "code",
   "execution_count": null,
   "metadata": {},
   "outputs": [],
   "source": [
    "# Write DataFrame to CSV:\n",
    "df = e.capgam(edata,\"C13\",\"more\")\n",
    "df.to_csv(\"egaf2capgam.csv\", sep=\",\", encoding=\"utf-8\", index=False)"
   ]
  },
  {
   "cell_type": "markdown",
   "metadata": {},
   "source": [
    "### Adopted total thermal neutron-capture cross sections $\\sigma_{0}$ in EGAF\n",
    "\n",
    "\\begin{equation}\n",
    "        \\nonumber\n",
    "        \\sigma_{0} = \\sum\\limits_{k=1}^{P}\\sigma_{\\gamma_{k}}^{\\text{primary}} = \\sum\\limits_{i=1}^{N} \\sigma_{\\gamma_{i0}}^{\\text{expt}}(1+\\alpha_{i0}) + \\sum\\limits_{j=1}^{M} \\sigma_{\\gamma_{j0}}^{\\text{sim}}.\n",
    "      \\end{equation}"
   ]
  },
  {
   "cell_type": "code",
   "execution_count": null,
   "metadata": {},
   "outputs": [],
   "source": [
    "# Pass target nucleus as string to find total thermal-capture cross section\n",
    "e.get_total_cross_section(edata, \"Cl35\")"
   ]
  },
  {
   "cell_type": "code",
   "execution_count": null,
   "metadata": {},
   "outputs": [],
   "source": [
    "# Pass corresponding (n,g) compound nucleus as string to find sum of primary cross sections\n",
    "e.sum_primaries(edata,\"Cl36\",intensity='isotopic')"
   ]
  },
  {
   "cell_type": "code",
   "execution_count": null,
   "metadata": {},
   "outputs": [],
   "source": [
    "# Calculate sum of gs-feeding cross sections\n",
    "e.sum_feeding_gs(edata,\"Al28\",intensity=\"isotopic\")"
   ]
  },
  {
   "cell_type": "code",
   "execution_count": null,
   "metadata": {
    "scrolled": true
   },
   "outputs": [],
   "source": [
    "# Get total neutron-capture cross sections for all (n,g) targets\n",
    "e.get_all_total_cross_sections(edata)"
   ]
  },
  {
   "cell_type": "code",
   "execution_count": null,
   "metadata": {},
   "outputs": [],
   "source": [
    "# Extract isotopic abundance of (n,g) target\n",
    "e.get_abundance(edata,\"Cl35\")"
   ]
  },
  {
   "cell_type": "code",
   "execution_count": null,
   "metadata": {},
   "outputs": [],
   "source": [
    "e.get_abundance(edata,\"Cl37\")"
   ]
  },
  {
   "cell_type": "code",
   "execution_count": null,
   "metadata": {
    "scrolled": true
   },
   "outputs": [],
   "source": [
    "# Get natural abundances for all (n,g) targets\n",
    "e.get_all_abundances(edata)"
   ]
  },
  {
   "cell_type": "code",
   "execution_count": null,
   "metadata": {
    "scrolled": false
   },
   "outputs": [],
   "source": [
    "# Extract total primary cross sections and total gs-feeding cross sections for all isotopes\n",
    "import re\n",
    "all_tcs = e.get_all_total_cross_sections(edata)\n",
    "\n",
    "all_p = [] \n",
    "all_gs = []\n",
    "A = re.compile(r'\\d+')\n",
    "for (k,v) in all_tcs.items():\n",
    "    target = k\n",
    "    residual = v[0]\n",
    "    mass = int(A.findall(target)[0])\n",
    "    sigma_0 = v[1]\n",
    "    d_sigma_0 = v[2]\n",
    "    \n",
    "    with suppress_stdout():\n",
    "        # Find sum of gs-feeding cross sections for each residual\n",
    "        sum_gs = e.sum_feeding_gs(edata, residual, intensity=\"isotopic\")\n",
    "        \n",
    "        if sum_gs != None:\n",
    "            if sigma_0 > 0 and sum_gs[0] > 0:\n",
    "                sim_gs = sigma_0 - sum_gs[0]\n",
    "                # For a clean plot, only including positive differences:\n",
    "                if sim_gs > 0:\n",
    "                    d_sim_gs = np.sqrt(d_sigma_0**2 + sum_gs[1]**2)\n",
    "                    ratio_missing = sim_gs/sigma_0\n",
    "                    d_ratio_missing = ratio_missing * np.sqrt((d_sigma_0/sigma_0)**2 + (d_sim_gs/sim_gs)**2)\n",
    "                    all_gs.append([mass, sim_gs, d_sim_gs, ratio_missing, d_ratio_missing])"
   ]
  },
  {
   "cell_type": "code",
   "execution_count": null,
   "metadata": {},
   "outputs": [],
   "source": [
    "# Cross sections from gs-feeding\n",
    "all_gs = np.array(all_gs)\n",
    "mass_gs = all_gs[:,0].astype(int)\n",
    "missing_fraction = all_gs[:,3].astype(float)\n",
    "d_missing_fraction = all_gs[:,4].astype(float)"
   ]
  },
  {
   "cell_type": "code",
   "execution_count": null,
   "metadata": {
    "scrolled": false
   },
   "outputs": [],
   "source": [
    "# Plot missing fraction from expected \"simulated\" contribution\n",
    "fig, ax = plt.subplots(figsize=(9,6))\n",
    "\n",
    "ax.errorbar(mass_gs, missing_fraction, yerr=d_missing_fraction, color='k', fmt='o', capsize=5)\n",
    "ax.axhline(1.0, color='r')\n",
    "\n",
    "#ax.set_yscale('log')\n",
    "ax.set_xlabel(r'$A$', size=20)\n",
    "ax.set_ylabel(r'$\\frac{\\sum\\sigma_{\\gamma}^{sim}}{\\sigma_{0}}$', size=20)\n",
    "#ax.legend(loc='best')\n",
    "\n",
    "plt.grid()\n",
    "plt.tight_layout()\n",
    "plt.savefig(\"missing_ratios.png\", dpi=fig.dpi)\n",
    "plt.show()"
   ]
  },
  {
   "cell_type": "code",
   "execution_count": null,
   "metadata": {
    "scrolled": false
   },
   "outputs": [],
   "source": [
    "# Generate CSV output for summation cross sections and compare to adopted data in EGAF\n",
    "\n",
    "gamma_info = np.array([(r,t[0],t[1],t[2]) for (r,t) in rt.items()])\n",
    "res = gamma_info[:,0]\n",
    "targ = gamma_info[:,1]\n",
    "Z_CN = gamma_info[:,2]\n",
    "A_CN = gamma_info[:,3]\n",
    "\n",
    "tot = []\n",
    "pri = []\n",
    "sec = []\n",
    "sum_p = []\n",
    "d_sum_p = []\n",
    "sum_gs = []\n",
    "d_sum_gs = []\n",
    "sigma_0 = []\n",
    "d_sigma_0 = []\n",
    "keynumber = []\n",
    "with suppress_stdout():\n",
    "    tot = np.array([e.num_gammas(edata,r) for r in res]).astype(int)\n",
    "    pri = np.array([e.num_primaries(edata,r) for r in res]).astype(int)\n",
    "    sec = np.array([e.num_secondaries(edata,r) for r in res]).astype(int)\n",
    "\n",
    "    sum_p = np.array([e.sum_primaries(edata, r, intensity='isotopic')[0] if e.sum_primaries(edata, r, intensity='isotopic')!=None else 0 for r in res]).astype(float)\n",
    "    d_sum_p = np.array([e.sum_primaries(edata, r, intensity='isotopic')[1] if e.sum_primaries(edata, r, intensity='isotopic')!=None else 0 for r in res]).astype(float)\n",
    "    sum_gs = np.array([e.sum_feeding_gs(edata, r)[0] if e.sum_feeding_gs(edata, r)!=None else 0 for r in res]).astype(float)\n",
    "    d_sum_gs = np.array([e.sum_feeding_gs(edata, r)[1] if e.sum_feeding_gs(edata, r)!=None else 0 for r in res]).astype(float)\n",
    "\n",
    "    sigma_0 = np.array([e.get_total_cross_section(edata, t)[0] for t in targ]).astype(float)\n",
    "    d_sigma_0 = np.array([e.get_total_cross_section(edata, t)[1] for t in targ]).astype(float)\n",
    "    keynumber = np.array([e.get_total_cross_section(edata, t)[3] for t in targ])\n",
    "    \n",
    "df = pd.DataFrame({'Target': targ, 'Residual': res, 'Z': Z_CN, 'A+1': A_CN, 'Total g': tot, \\\n",
    "                   'Primaries': pri, 'Secondaries': sec, 'Sum g(P)': sum_p, 'd_Sum g(P)': d_sum_p, \\\n",
    "                   'Sum g(GS)': sum_gs, 'd_Sum g(GS)': d_sum_gs,'sigma_0': sigma_0, 'd_sigma_0': d_sigma_0, \\\n",
    "                   'Ref': keynumber})\n",
    "pd.set_option('display.max_row', None)\n",
    "pd.set_option('display.max_columns', None)\n",
    "\n",
    "# Write DataFrame to CSV:\n",
    "df.to_csv(\"egaf_stats.csv\", sep=\",\", encoding=\"utf-8\", index=False)\n",
    "df"
   ]
  },
  {
   "cell_type": "code",
   "execution_count": null,
   "metadata": {},
   "outputs": [],
   "source": []
  }
 ],
 "metadata": {
  "kernelspec": {
   "display_name": "Python 3",
   "language": "python",
   "name": "python3"
  },
  "language_info": {
   "codemirror_mode": {
    "name": "ipython",
    "version": 3
   },
   "file_extension": ".py",
   "mimetype": "text/x-python",
   "name": "python",
   "nbconvert_exporter": "python",
   "pygments_lexer": "ipython3",
   "version": "3.7.3"
  }
 },
 "nbformat": 4,
 "nbformat_minor": 2
}
